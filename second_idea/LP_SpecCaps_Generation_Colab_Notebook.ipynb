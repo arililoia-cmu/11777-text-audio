{
  "nbformat": 4,
  "nbformat_minor": 0,
  "metadata": {
    "colab": {
      "provenance": [],
      "gpuType": "V100",
      "machine_shape": "hm"
    },
    "kernelspec": {
      "name": "python3",
      "display_name": "Python 3"
    },
    "language_info": {
      "name": "python"
    },
    "accelerator": "GPU"
  },
  "cells": [
    {
      "cell_type": "code",
      "source": [
        "!nvcc --version\n",
        "!pip install torch==2.0.0 torchvision==0.15.1 torchaudio==2.0.1 --index-url https://download.pytorch.org/whl/cu118 --quiet"
      ],
      "metadata": {
        "id": "fVqR02IRKw5W"
      },
      "execution_count": 19,
      "outputs": []
    },
    {
      "cell_type": "code",
      "source": [
        "from google.colab import drive\n",
        "drive.mount('/content/drive')"
      ],
      "metadata": {
        "id": "0K-odg1q4ig4"
      },
      "execution_count": 20,
      "outputs": []
    },
    {
      "cell_type": "code",
      "source": [
        "%cd '/content/'\n",
        "!mkdir lpcc\n",
        "%cd '/content/lpcc'"
      ],
      "metadata": {
        "id": "OdvmIK6sx8ml"
      },
      "execution_count": 21,
      "outputs": []
    },
    {
      "cell_type": "code",
      "source": [
        "#replace with path to audio zip in your own google drive\n",
        "audio_zip_path = '/content/drive/MyDrive/wavcaps stuff/audiocopy.zip'\n",
        "%cd '/content/lpcc'"
      ],
      "metadata": {
        "id": "2NApb9Ek8ZYJ"
      },
      "execution_count": 22,
      "outputs": []
    },
    {
      "cell_type": "code",
      "source": [
        "import os\n",
        "\n",
        "final_dir = '/content/lpcc'\n",
        "!mkdir test_set\n",
        "\n",
        "get_file_id_from_google_drive_link = lambda file_link:file_link.split('/d/')[-1].split('/view')[0]\n",
        "get_wget_command = lambda file_id,save_name: f'wget --load-cookies ~/cookies.txt \"https://docs.google.com/uc?export=download&confirm=$(wget --quiet --save-cookies ~/cookies.txt --keep-session-cookies --no-check-certificate \"https://docs.google.com/uc?export=download&id={file_id}\" -O- | sed -rn \"s/.*confirm=([0-9A-Za-z_]+).*/\\1\\n/p\")&id={file_id}\" -O {save_name} && rm -rf ~/cookies.txt'\n",
        "\n",
        "download_files_google_drive_link_list = [\n",
        "    ('song_tags.csv','https://drive.google.com/file/d/1YYBxMD45hGGEo92m1iEo1KsbGU2CXcKp/view?usp=sharing'),\n",
        "    ('split.json', 'https://drive.google.com/file/d/1eO2mmUz3WAlr1DEwcswY8mlB4DtBSqJc/view?usp=sharing')\n",
        "]\n",
        "for google_drive_link in download_files_google_drive_link_list:\n",
        "  print(f'downloading: {google_drive_link[0]}')\n",
        "  os.system(get_wget_command(get_file_id_from_google_drive_link(google_drive_link[1]),f'{final_dir}/{google_drive_link[0]}'))\n",
        "\n"
      ],
      "metadata": {
        "id": "xF9BfD0D9O0T"
      },
      "execution_count": 23,
      "outputs": []
    },
    {
      "cell_type": "code",
      "source": [
        "import torch\n",
        "import torchaudio"
      ],
      "metadata": {
        "id": "MJWAdUA8fMJV"
      },
      "execution_count": 8,
      "outputs": []
    },
    {
      "cell_type": "code",
      "source": [
        "import gc\n",
        "torch.cuda.empty_cache()\n",
        "gc.collect()\n",
        "torch.cuda.empty_cache()\n",
        "gc.collect()\n",
        "torch.cuda.empty_cache()\n",
        "gc.collect()\n",
        "torch.cuda.empty_cache()\n",
        "gc.collect()\n",
        "gc.collect()\n",
        "gc.collect()\n",
        "gc.collect()"
      ],
      "metadata": {
        "id": "D0dCwrGXrbH-"
      },
      "execution_count": 24,
      "outputs": []
    },
    {
      "cell_type": "code",
      "source": [
        "from huggingface_hub import notebook_login\n",
        "notebook_login()"
      ],
      "metadata": {
        "id": "c-RZ-CQsD-vy"
      },
      "execution_count": 25,
      "outputs": []
    },
    {
      "cell_type": "code",
      "source": [
        "!pip -q install datasets"
      ],
      "metadata": {
        "id": "f1qLl-dnfTeo"
      },
      "execution_count": 26,
      "outputs": []
    },
    {
      "cell_type": "code",
      "source": [
        "from datasets import load_dataset\n",
        "pseudo_captions_dataset = load_dataset(\"seungheondoh/LP-MusicCaps-MSD\")\n"
      ],
      "metadata": {
        "id": "Ay6DKFa-q1TT"
      },
      "execution_count": 29,
      "outputs": []
    },
    {
      "cell_type": "code",
      "source": [
        "pcd_test = pseudo_captions_dataset['test']\n",
        "print(len(pcd_test))\n",
        "print(pcd_test[0])\n",
        "\n",
        "def get_caption_from_track_id(search_value_track_ID):\n",
        "  matching_entry = next((entry for entry in pcd_test if entry[\"track_id\"] == search_value_track_ID), None)\n",
        "  if matching_entry:\n",
        "      return matching_entry[\"caption_writing\"]\n",
        "  else:\n",
        "      return \"\"\n"
      ],
      "metadata": {
        "id": "x8PmFZB1sSc6"
      },
      "execution_count": 30,
      "outputs": []
    },
    {
      "cell_type": "code",
      "source": [
        "tracklist_file_path = '/content/drive/MyDrive/secondIdea/tracklist.txt'\n",
        "def write_filename_to_tracklist(fname):\n",
        "  with open(tracklist_file_path, 'a') as file:\n",
        "      # Write the string to a new line\n",
        "      file.write(fname + '\\n')"
      ],
      "metadata": {
        "id": "WctGazVvZwUT"
      },
      "execution_count": 15,
      "outputs": []
    },
    {
      "cell_type": "code",
      "source": [
        "split_path = '/content/lpcc/split.json'\n",
        "!mkdir '/content/drive/My Drive/secondIdea'\n",
        "!mkdir '/content/drive/My Drive/secondIdea/spectrograms'\n",
        "!mkdir '/content/drive/My Drive/secondIdea/audios_temp'\n",
        "paired_data_csv_file_path = '/content/drive/My Drive/secondIdea/caption_pairs.csv'\n",
        "with open(paired_data_csv_file_path, 'w', newline='') as csv_file:\n",
        "    pass\n",
        "tracklist_path = '/content/drive/My Drive/secondIdea/tracklist.txt'\n",
        "with open(tracklist_path, 'w') as text_file:\n",
        "    pass\n",
        "\n",
        "spectrograms_dir = '/content/drive/My Drive/secondIdea/spectrograms'\n",
        "audios_temp_dir = '/content/drive/My Drive/secondIdea/audios_temp'\n"
      ],
      "metadata": {
        "id": "PXzTXiuviED5"
      },
      "execution_count": 16,
      "outputs": []
    },
    {
      "cell_type": "code",
      "source": [
        "import json\n",
        "import zipfile\n",
        "import gc\n",
        "import csv\n",
        "import torchaudio\n",
        "import matplotlib.pyplot as plt\n",
        "\n",
        "\n",
        "# use only test track\n",
        "with open(split_path, 'r') as f:\n",
        "  split = json.load(f)\n",
        "  test_track = split['test_track'] + split['extra_track']\n",
        "  print(test_track)\n",
        "\n",
        "len_test_track = len(test_track)\n",
        "\n",
        "with zipfile.ZipFile(audio_zip_path, 'r') as zip_ref:\n",
        "  with open(paired_data_csv_file_path, \"w\", newline=\"\") as csv_file:\n",
        "    csv_writer = csv.writer(csv_file)\n",
        "    # csv_writer.writerow([\"track_id\", \"caption\"])\n",
        "    len_test_track = len(test_track)\n",
        "    for i in range(len_test_track):\n",
        "      # print(i)\n",
        "      gc.collect()\n",
        "      torch.cuda.empty_cache()\n",
        "      audio_file_to_extract = 'audio/' + test_track[i] + '.m4a'\n",
        "      if audio_file_to_extract in zip_ref.namelist():\n",
        "        zip_ref.extract(audio_file_to_extract, path=audios_temp_dir)\n",
        "\n",
        "        # get groundtruth caption and write to csv\n",
        "        groundtruth_caption = get_caption_from_track_id(test_track[i])\n",
        "        pair_data_to_write = [test_track[i], groundtruth_caption]\n",
        "        csv_writer.writerow(pair_data_to_write)\n",
        "\n",
        "        # generate spectrogram\n",
        "        waveform, sample_rate = torchaudio.load(audios_temp_dir + '/' + audio_file_to_extract)\n",
        "        specgram = torchaudio.transforms.Spectrogram()(waveform)\n",
        "        specgram_db = torchaudio.transforms.AmplitudeToDB()(specgram)\n",
        "        specgram_np = specgram_db.numpy()[0]\n",
        "        output_file_path = os.path.join(spectrograms_dir, test_track[i] + '.jpg')\n",
        "        plt.imshow(specgram_np, cmap='viridis', aspect='auto', origin='lower')\n",
        "        plt.axis('off')  # Turn off axis labels\n",
        "        plt.savefig(output_file_path, bbox_inches='tight', pad_inches=0)\n",
        "        plt.close()\n",
        "\n",
        "        # delete audio file\n",
        "        if os.path.exists(audios_temp_dir + '/' + audio_file_to_extract):\n",
        "          # Delete the file\n",
        "          os.remove(audios_temp_dir + '/' + audio_file_to_extract)\n",
        "\n",
        "      else:\n",
        "        print(f\"{audio_file_to_extract} does not exist in the archive.\")\n",
        "\n",
        "zip_ref.close()"
      ],
      "metadata": {
        "id": "vFuCwLSB9_5J"
      },
      "execution_count": 31,
      "outputs": []
    }
  ]
}